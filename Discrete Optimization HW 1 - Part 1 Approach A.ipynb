{
 "cells": [
  {
   "cell_type": "code",
   "execution_count": null,
   "metadata": {
    "scrolled": true
   },
   "outputs": [],
   "source": [
    "using JuMP,Gurobi"
   ]
  },
  {
   "cell_type": "code",
   "execution_count": null,
   "metadata": {
    "scrolled": true
   },
   "outputs": [],
   "source": [
    "using CSV\n",
    "data = CSV.read(\"data_transfered.csv\")"
   ]
  },
  {
   "cell_type": "code",
   "execution_count": null,
   "metadata": {
    "scrolled": false
   },
   "outputs": [],
   "source": [
    "I = [1:241;]\n",
    "J = [1:241;]\n",
    "de = 110.25"
   ]
  },
  {
   "cell_type": "code",
   "execution_count": null,
   "metadata": {
    "scrolled": false
   },
   "outputs": [],
   "source": [
    "c = zeros((241,241))\n",
    "for i = 1:241\n",
    "    for j = 1:241\n",
    "        c[i,j] = de*((data[i,8]-data[j,8])^2 + ((data[i,9]-data[j,9])*cos(data[j,8]))^2)^(1/2)\n",
    "    end\n",
    "end"
   ]
  },
  {
   "cell_type": "code",
   "execution_count": null,
   "metadata": {
    "scrolled": false
   },
   "outputs": [],
   "source": [
    "#de*((data[i,8]-data[j,8])^2 + ((data[i,9]-data[j,9])*cos(data[j,8]))^2)^(1/2)\n",
    "p = 5\n",
    "Model_p5 = Model(Gurobi.Optimizer)\n",
    "@variable(Model_p5,x[i in I],Bin) # if city i is server\n",
    "@variable(Model_p5,y[i in I,j in I],Bin) #if city i is served by city j\n",
    "@objective(Model_p5,Min,sum(y[i,j]*c[i,j]*data[i,10] for i in I , j in I))\n",
    "@constraints(Model_p5,begin\n",
    "        [i in I], sum(y[i,j] for j in I) == 1\n",
    "        [i in I , j in I], y[i,j]-x[j] <= 0\n",
    "        #[i in I], y[i,i] == x[i]\n",
    "        sum(x[i] for i in I) == p\n",
    "    end)"
   ]
  },
  {
   "cell_type": "code",
   "execution_count": null,
   "metadata": {
    "scrolled": false
   },
   "outputs": [],
   "source": [
    "optimize!(Model_p5)"
   ]
  },
  {
   "cell_type": "code",
   "execution_count": null,
   "metadata": {},
   "outputs": [],
   "source": [
    "println(\"p = 5\")\n",
    "print(\"Optimal value: \")\n",
    "println(objective_value(Model_p5))\n",
    "print(\"node \")\n",
    "for i in I\n",
    "    if value(x[i]) > 0.5\n",
    "        print(i,\" \")\n",
    "    end\n",
    "end\n",
    "print(\"are selected as distribution centers\")"
   ]
  },
  {
   "cell_type": "code",
   "execution_count": null,
   "metadata": {},
   "outputs": [],
   "source": [
    "#de*((data[i,8]-data[j,8])^2 + ((data[i,9]-data[j,9])*cos(data[j,8]))^2)^(1/2)\n",
    "p = 10\n",
    "Model_p10 = Model(Gurobi.Optimizer)\n",
    "@variable(Model_p10,x[i in I],Bin) # if city i is server\n",
    "@variable(Model_p10,y[i in I,j in J],Bin) #if city i is served by city j\n",
    "@objective(Model_p10,Min,sum(y[i,j]*c[i,j]*data[i,10] for i in I , j in J))\n",
    "@constraints(Model_p10,begin\n",
    "        [i in I], sum(y[i,j] for j in J) == 1\n",
    "        [i in I , j in J], y[i,j]-x[j] <= 0\n",
    "        #[i in I], y[i,i] == x[i]\n",
    "        sum(x[i] for i in I) == p\n",
    "    end)"
   ]
  },
  {
   "cell_type": "code",
   "execution_count": null,
   "metadata": {},
   "outputs": [],
   "source": [
    "optimize!(Model_p10)"
   ]
  },
  {
   "cell_type": "code",
   "execution_count": null,
   "metadata": {},
   "outputs": [],
   "source": [
    "println(\"p = 10\")\n",
    "print(\"Optimal value: \")\n",
    "println(objective_value(Model_p10))\n",
    "print(\"node \")\n",
    "for i in I\n",
    "    if value(x[i]) > 0.5\n",
    "        print(i,\" \")\n",
    "    end\n",
    "end\n",
    "print(\"are selected as distribution centers\")"
   ]
  },
  {
   "cell_type": "code",
   "execution_count": null,
   "metadata": {},
   "outputs": [],
   "source": [
    "#de*((data[i,8]-data[j,8])^2 + ((data[i,9]-data[j,9])*cos(data[j,8]))^2)^(1/2)\n",
    "p = 15\n",
    "Model_p15 = Model(Gurobi.Optimizer)\n",
    "@variable(Model_p15,x[i in I],Bin) # if city i is server\n",
    "@variable(Model_p15,y[i in I,j in J],Bin) #if city i is served by city j\n",
    "@objective(Model_p15,Min,sum(y[i,j]*c[i,j]*data[i,10] for i in I , j in J))\n",
    "@constraints(Model_p15,begin\n",
    "        [i in I], sum(y[i,j] for j in J) == 1\n",
    "        [i in I , j in J], y[i,j]-x[j] <= 0\n",
    "        #[i in I], y[i,i] == x[i]\n",
    "        sum(x[i] for i in I) == p\n",
    "    end)"
   ]
  },
  {
   "cell_type": "code",
   "execution_count": null,
   "metadata": {},
   "outputs": [],
   "source": [
    "optimize!(Model_p15)"
   ]
  },
  {
   "cell_type": "code",
   "execution_count": null,
   "metadata": {
    "scrolled": true
   },
   "outputs": [],
   "source": [
    "println(\"p = 15\")\n",
    "print(\"Optimal value: \")\n",
    "println(objective_value(Model_p15))\n",
    "print(\"node \")\n",
    "for i in I\n",
    "    if value(x[i]) > 0.5\n",
    "        print(i,\" \")\n",
    "    end\n",
    "end\n",
    "print(\"are selected as distribution centers\")"
   ]
  },
  {
   "cell_type": "code",
   "execution_count": null,
   "metadata": {},
   "outputs": [],
   "source": [
    "#de*((data[i,8]-data[j,8])^2 + ((data[i,9]-data[j,9])*cos(data[j,8]))^2)^(1/2)\n",
    "p = 20\n",
    "Model_p20 = Model(Gurobi.Optimizer)\n",
    "@variable(Model_p20,x[i in I],Bin) # if city i is server\n",
    "@variable(Model_p20,y[i in I,j in J],Bin) #if city i is served by city j\n",
    "@objective(Model_p20,Min,sum(y[i,j]*c[i,j]*data[i,10] for i in I , j in J))\n",
    "@constraints(Model_p20,begin\n",
    "        [i in I], sum(y[i,j] for j in J) == 1\n",
    "        [i in I , j in J], y[i,j]-x[j] <= 0\n",
    "        #[i in I], y[i,i] == x[i]\n",
    "        sum(x[i] for i in I) == p\n",
    "    end)"
   ]
  },
  {
   "cell_type": "code",
   "execution_count": null,
   "metadata": {},
   "outputs": [],
   "source": [
    "optimize!(Model_p20)"
   ]
  },
  {
   "cell_type": "code",
   "execution_count": null,
   "metadata": {},
   "outputs": [],
   "source": [
    "println(\"p = 20\")\n",
    "print(\"Optimal value: \")\n",
    "println(objective_value(Model_p20))\n",
    "print(\"node \")\n",
    "for i in I\n",
    "    if value(x[i]) > 0.5\n",
    "        print(i,\" \")\n",
    "    end\n",
    "end\n",
    "print(\"are selected as distribution centers\")"
   ]
  },
  {
   "cell_type": "code",
   "execution_count": null,
   "metadata": {},
   "outputs": [],
   "source": [
    "#de*((data[i,8]-data[j,8])^2 + ((data[i,9]-data[j,9])*cos(data[j,8]))^2)^(1/2)\n",
    "p = 25\n",
    "Model_p25 = Model(Gurobi.Optimizer)\n",
    "@variable(Model_p25,x[i in I],Bin) # if city i is server\n",
    "@variable(Model_p25,y[i in I,j in J],Bin) #if city i is served by city j\n",
    "@objective(Model_p25,Min,sum(y[i,j]*c[i,j]*data[i,10] for i in I , j in J))\n",
    "@constraints(Model_p25,begin\n",
    "        [i in I], sum(y[i,j] for j in J) == 1\n",
    "        [i in I , j in J], y[i,j]-x[j] <= 0\n",
    "        #[i in I], y[i,i] == x[i]\n",
    "        sum(x[i] for i in I) == p\n",
    "    end)"
   ]
  },
  {
   "cell_type": "code",
   "execution_count": null,
   "metadata": {},
   "outputs": [],
   "source": [
    "optimize!(Model_p25)"
   ]
  },
  {
   "cell_type": "code",
   "execution_count": null,
   "metadata": {},
   "outputs": [],
   "source": [
    "println(\"p = 25\")\n",
    "print(\"Optimal value: \")\n",
    "println(objective_value(Model_p25))\n",
    "print(\"node \")\n",
    "for i in I\n",
    "    if value(x[i]) > 0.5\n",
    "        print(i,\" \")\n",
    "    end\n",
    "end\n",
    "print(\"are selected as distribution centers\")"
   ]
  },
  {
   "cell_type": "code",
   "execution_count": null,
   "metadata": {},
   "outputs": [],
   "source": [
    "#de*((data[i,8]-data[j,8])^2 + ((data[i,9]-data[j,9])*cos(data[j,8]))^2)^(1/2)\n",
    "p = 30\n",
    "Model_p30 = Model(Gurobi.Optimizer)\n",
    "@variable(Model_p30,x[i in I],Bin) # if city i is server\n",
    "@variable(Model_p30,y[i in I,j in J],Bin) #if city i is served by city j\n",
    "@objective(Model_p30,Min,sum(y[i,j]*c[i,j]*data[i,10] for i in I , j in J))\n",
    "@constraints(Model_p30,begin\n",
    "        [i in I], sum(y[i,j] for j in J) == 1\n",
    "        [i in I , j in J], y[i,j]-x[j] <= 0\n",
    "        #[i in I], y[i,i] == x[i]\n",
    "        sum(x[i] for i in I) == p\n",
    "    end)"
   ]
  },
  {
   "cell_type": "code",
   "execution_count": null,
   "metadata": {},
   "outputs": [],
   "source": [
    "optimize!(Model_p30)"
   ]
  },
  {
   "cell_type": "code",
   "execution_count": null,
   "metadata": {},
   "outputs": [],
   "source": [
    "println(\"p = 30\")\n",
    "print(\"Optimal value: \")\n",
    "println(objective_value(Model_p30))\n",
    "print(\"node \")\n",
    "for i in I\n",
    "    if value(x[i]) > 0.5\n",
    "        print(i,\" \")\n",
    "    end\n",
    "end\n",
    "print(\"are selected as distribution centers\")"
   ]
  }
 ],
 "metadata": {
  "kernelspec": {
   "display_name": "Julia 1.5.1",
   "language": "julia",
   "name": "julia-1.5"
  },
  "language_info": {
   "file_extension": ".jl",
   "mimetype": "application/julia",
   "name": "julia",
   "version": "1.5.1"
  }
 },
 "nbformat": 4,
 "nbformat_minor": 4
}
