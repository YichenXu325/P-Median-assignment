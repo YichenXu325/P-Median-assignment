{
 "cells": [
  {
   "cell_type": "code",
   "execution_count": 7,
   "metadata": {
    "scrolled": true
   },
   "outputs": [
    {
     "name": "stderr",
     "output_type": "stream",
     "text": [
      "\u001b[32m\u001b[1m  Resolving\u001b[22m\u001b[39m package versions...\n",
      "\u001b[32m\u001b[1m  Installed\u001b[22m\u001b[39m Distances ─ v0.9.0\n",
      "\u001b[32m\u001b[1mUpdating\u001b[22m\u001b[39m `~/.julia/environments/v1.5/Project.toml`\n",
      " \u001b[90m [b4f34e82] \u001b[39m\u001b[92m+ Distances v0.9.0\u001b[39m\n",
      "\u001b[32m\u001b[1mUpdating\u001b[22m\u001b[39m `~/.julia/environments/v1.5/Manifest.toml`\n",
      " \u001b[90m [b4f34e82] \u001b[39m\u001b[92m+ Distances v0.9.0\u001b[39m\n",
      "┌ Info: Precompiling Distances [b4f34e82-e78d-54a5-968a-f98e89d6e8f7]\n",
      "└ @ Base loading.jl:1278\n"
     ]
    }
   ],
   "source": [
    "using Pkg\n",
    "Pkg.add(\"Distances\")\n",
    "using JuMP,Gurobi,Distances"
   ]
  },
  {
   "cell_type": "code",
   "execution_count": 8,
   "metadata": {
    "scrolled": true
   },
   "outputs": [
    {
     "data": {
      "text/html": [
       "<table class=\"data-frame\"><thead><tr><th></th><th>ID</th><th>Country or area</th><th>Country code</th><th>Capital City</th></tr><tr><th></th><th>Int64</th><th>String</th><th>Int64</th><th>String</th></tr></thead><tbody><p>241 rows × 10 columns (omitted printing of 6 columns)</p><tr><th>1</th><td>1</td><td>Afghanistan</td><td>4</td><td>Kabul</td></tr><tr><th>2</th><td>2</td><td>Albania</td><td>8</td><td>Tiran\\x91 (Tirana)</td></tr><tr><th>3</th><td>3</td><td>Algeria</td><td>12</td><td>El Djaza\\x95r  (Algiers)</td></tr><tr><th>4</th><td>4</td><td>American Samoa</td><td>16</td><td>Pago Pago</td></tr><tr><th>5</th><td>5</td><td>Andorra</td><td>20</td><td>Andorra la Vella</td></tr><tr><th>6</th><td>6</td><td>Angola</td><td>24</td><td>Luanda</td></tr><tr><th>7</th><td>7</td><td>Anguilla</td><td>660</td><td>The Valley</td></tr><tr><th>8</th><td>8</td><td>Antigua and Barbuda</td><td>28</td><td>St. John's</td></tr><tr><th>9</th><td>9</td><td>Argentina</td><td>32</td><td>Buenos Aires</td></tr><tr><th>10</th><td>10</td><td>Armenia</td><td>51</td><td>Yerevan</td></tr><tr><th>11</th><td>11</td><td>Aruba</td><td>533</td><td>Oranjestad</td></tr><tr><th>12</th><td>12</td><td>Australia</td><td>36</td><td>Canberra</td></tr><tr><th>13</th><td>13</td><td>Austria</td><td>40</td><td>Wien (Vienna)</td></tr><tr><th>14</th><td>14</td><td>Azerbaijan</td><td>31</td><td>Baku</td></tr><tr><th>15</th><td>15</td><td>Bahamas</td><td>44</td><td>Nassau</td></tr><tr><th>16</th><td>16</td><td>Bahrain</td><td>48</td><td>Al-Manamah (Manama)</td></tr><tr><th>17</th><td>17</td><td>Bangladesh</td><td>50</td><td>Dhaka</td></tr><tr><th>18</th><td>18</td><td>Barbados</td><td>52</td><td>Bridgetown</td></tr><tr><th>19</th><td>19</td><td>Belarus</td><td>112</td><td>Minsk</td></tr><tr><th>20</th><td>20</td><td>Belgium</td><td>56</td><td>Bruxelles-Brussel</td></tr><tr><th>21</th><td>21</td><td>Belize</td><td>84</td><td>Belmopan</td></tr><tr><th>22</th><td>22</td><td>Benin</td><td>204</td><td>Cotonou</td></tr><tr><th>23</th><td>23</td><td>Benin</td><td>204</td><td>Porto-Novo</td></tr><tr><th>24</th><td>24</td><td>Bermuda</td><td>60</td><td>Hamilton</td></tr><tr><th>25</th><td>25</td><td>Bhutan</td><td>64</td><td>Thimphu</td></tr><tr><th>26</th><td>26</td><td>Bolivia (Plurinational State of)</td><td>68</td><td>La Paz</td></tr><tr><th>27</th><td>27</td><td>Bolivia (Plurinational State of)</td><td>68</td><td>Sucre</td></tr><tr><th>28</th><td>28</td><td>Bosnia and Herzegovina</td><td>70</td><td>Sarajevo</td></tr><tr><th>29</th><td>29</td><td>Botswana</td><td>72</td><td>Gaborone</td></tr><tr><th>30</th><td>30</td><td>Brazil</td><td>76</td><td>Bras\\x92lia</td></tr><tr><th>&vellip;</th><td>&vellip;</td><td>&vellip;</td><td>&vellip;</td><td>&vellip;</td></tr></tbody></table>"
      ],
      "text/latex": [
       "\\begin{tabular}{r|ccccc}\n",
       "\t& ID & Country or area & Country code & Capital City & \\\\\n",
       "\t\\hline\n",
       "\t& Int64 & String & Int64 & String & \\\\\n",
       "\t\\hline\n",
       "\t1 & 1 & Afghanistan & 4 & Kabul & $\\dots$ \\\\\n",
       "\t2 & 2 & Albania & 8 & Tiran\\textbackslash{}x91 (Tirana) & $\\dots$ \\\\\n",
       "\t3 & 3 & Algeria & 12 & El Djaza\\textbackslash{}x95r  (Algiers) & $\\dots$ \\\\\n",
       "\t4 & 4 & American Samoa & 16 & Pago Pago & $\\dots$ \\\\\n",
       "\t5 & 5 & Andorra & 20 & Andorra la Vella & $\\dots$ \\\\\n",
       "\t6 & 6 & Angola & 24 & Luanda & $\\dots$ \\\\\n",
       "\t7 & 7 & Anguilla & 660 & The Valley & $\\dots$ \\\\\n",
       "\t8 & 8 & Antigua and Barbuda & 28 & St. John's & $\\dots$ \\\\\n",
       "\t9 & 9 & Argentina & 32 & Buenos Aires & $\\dots$ \\\\\n",
       "\t10 & 10 & Armenia & 51 & Yerevan & $\\dots$ \\\\\n",
       "\t11 & 11 & Aruba & 533 & Oranjestad & $\\dots$ \\\\\n",
       "\t12 & 12 & Australia & 36 & Canberra & $\\dots$ \\\\\n",
       "\t13 & 13 & Austria & 40 & Wien (Vienna) & $\\dots$ \\\\\n",
       "\t14 & 14 & Azerbaijan & 31 & Baku & $\\dots$ \\\\\n",
       "\t15 & 15 & Bahamas & 44 & Nassau & $\\dots$ \\\\\n",
       "\t16 & 16 & Bahrain & 48 & Al-Manamah (Manama) & $\\dots$ \\\\\n",
       "\t17 & 17 & Bangladesh & 50 & Dhaka & $\\dots$ \\\\\n",
       "\t18 & 18 & Barbados & 52 & Bridgetown & $\\dots$ \\\\\n",
       "\t19 & 19 & Belarus & 112 & Minsk & $\\dots$ \\\\\n",
       "\t20 & 20 & Belgium & 56 & Bruxelles-Brussel & $\\dots$ \\\\\n",
       "\t21 & 21 & Belize & 84 & Belmopan & $\\dots$ \\\\\n",
       "\t22 & 22 & Benin & 204 & Cotonou & $\\dots$ \\\\\n",
       "\t23 & 23 & Benin & 204 & Porto-Novo & $\\dots$ \\\\\n",
       "\t24 & 24 & Bermuda & 60 & Hamilton & $\\dots$ \\\\\n",
       "\t25 & 25 & Bhutan & 64 & Thimphu & $\\dots$ \\\\\n",
       "\t26 & 26 & Bolivia (Plurinational State of) & 68 & La Paz & $\\dots$ \\\\\n",
       "\t27 & 27 & Bolivia (Plurinational State of) & 68 & Sucre & $\\dots$ \\\\\n",
       "\t28 & 28 & Bosnia and Herzegovina & 70 & Sarajevo & $\\dots$ \\\\\n",
       "\t29 & 29 & Botswana & 72 & Gaborone & $\\dots$ \\\\\n",
       "\t30 & 30 & Brazil & 76 & Bras\\textbackslash{}x92lia & $\\dots$ \\\\\n",
       "\t$\\dots$ & $\\dots$ & $\\dots$ & $\\dots$ & $\\dots$ &  \\\\\n",
       "\\end{tabular}\n"
      ],
      "text/plain": [
       "241×10 DataFrame. Omitted printing of 7 columns\n",
       "│ Row │ ID    │ Country or area                    │ Country code │\n",
       "│     │ \u001b[90mInt64\u001b[39m │ \u001b[90mString\u001b[39m                             │ \u001b[90mInt64\u001b[39m        │\n",
       "├─────┼───────┼────────────────────────────────────┼──────────────┤\n",
       "│ 1   │ 1     │ Afghanistan                        │ 4            │\n",
       "│ 2   │ 2     │ Albania                            │ 8            │\n",
       "│ 3   │ 3     │ Algeria                            │ 12           │\n",
       "│ 4   │ 4     │ American Samoa                     │ 16           │\n",
       "│ 5   │ 5     │ Andorra                            │ 20           │\n",
       "│ 6   │ 6     │ Angola                             │ 24           │\n",
       "│ 7   │ 7     │ Anguilla                           │ 660          │\n",
       "│ 8   │ 8     │ Antigua and Barbuda                │ 28           │\n",
       "│ 9   │ 9     │ Argentina                          │ 32           │\n",
       "│ 10  │ 10    │ Armenia                            │ 51           │\n",
       "⋮\n",
       "│ 231 │ 231   │ United States Virgin Islands       │ 850          │\n",
       "│ 232 │ 232   │ Uruguay                            │ 858          │\n",
       "│ 233 │ 233   │ Uzbekistan                         │ 860          │\n",
       "│ 234 │ 234   │ Vanuatu                            │ 548          │\n",
       "│ 235 │ 235   │ Venezuela (Bolivarian Republic of) │ 862          │\n",
       "│ 236 │ 236   │ Viet Nam                           │ 704          │\n",
       "│ 237 │ 237   │ Wallis and Futuna Islands          │ 876          │\n",
       "│ 238 │ 238   │ Western Sahara                     │ 732          │\n",
       "│ 239 │ 239   │ Yemen                              │ 887          │\n",
       "│ 240 │ 240   │ Zambia                             │ 894          │\n",
       "│ 241 │ 241   │ Zimbabwe                           │ 716          │"
      ]
     },
     "execution_count": 8,
     "metadata": {},
     "output_type": "execute_result"
    }
   ],
   "source": [
    "using CSV\n",
    "data = CSV.read(\"data_transfered.csv\")"
   ]
  },
  {
   "cell_type": "code",
   "execution_count": 9,
   "metadata": {
    "scrolled": false
   },
   "outputs": [
    {
     "data": {
      "text/plain": [
       "110.25"
      ]
     },
     "execution_count": 9,
     "metadata": {},
     "output_type": "execute_result"
    }
   ],
   "source": [
    "I = [1:241;]\n",
    "J = [1:241;]\n",
    "de = 110.25"
   ]
  },
  {
   "cell_type": "code",
   "execution_count": 10,
   "metadata": {
    "scrolled": false
   },
   "outputs": [],
   "source": [
    "c = zeros((241,241))\n",
    "for i = 1:241\n",
    "    for j = 1:241\n",
    "        c[i,j] = de*((data[i,8]-data[j,8])^2 + ((data[i,9]-data[j,9])*cos(data[j,8]))^2)^(1/2)\n",
    "    end\n",
    "end"
   ]
  },
  {
   "cell_type": "code",
   "execution_count": 13,
   "metadata": {},
   "outputs": [],
   "source": [
    "cc = zeros((241,241))\n",
    "for i = 1:241\n",
    "    for j = 1:241\n",
    "        cc[i,j] = haversine((data[i,8],data[i,9]),(data[j,8],data[j,9]),6372.8)\n",
    "    end\n",
    "end"
   ]
  },
  {
   "cell_type": "code",
   "execution_count": 15,
   "metadata": {},
   "outputs": [
    {
     "data": {
      "text/plain": [
       "5509.149352017856"
      ]
     },
     "execution_count": 15,
     "metadata": {},
     "output_type": "execute_result"
    }
   ],
   "source": [
    "cc[1,2]"
   ]
  },
  {
   "cell_type": "code",
   "execution_count": 16,
   "metadata": {},
   "outputs": [
    {
     "data": {
      "text/plain": [
       "4867.222080544683"
      ]
     },
     "execution_count": 16,
     "metadata": {},
     "output_type": "execute_result"
    }
   ],
   "source": [
    "c[1,2]"
   ]
  },
  {
   "cell_type": "code",
   "execution_count": 5,
   "metadata": {
    "scrolled": false
   },
   "outputs": [
    {
     "name": "stdout",
     "output_type": "stream",
     "text": [
      "Academic license - for non-commercial use only\n"
     ]
    }
   ],
   "source": [
    "#de*((data[i,8]-data[j,8])^2 + ((data[i,9]-data[j,9])*cos(data[j,8]))^2)^(1/2)\n",
    "p = 5\n",
    "Model_p5 = Model(Gurobi.Optimizer)\n",
    "@variable(Model_p5,x[i in I],Bin) # if city i is server\n",
    "@variable(Model_p5,y[i in I,j in I],Bin) #if city i is served by city j\n",
    "@objective(Model_p5,Min,sum(y[i,j]*c[i,j]*data[i,10] for i in I , j in I))\n",
    "@constraints(Model_p5,begin\n",
    "        [i in I], sum(y[i,j] for j in I) == 1\n",
    "        [i in I , j in I], y[i,j]-x[j] <= 0\n",
    "        #[i in I], y[i,i] == x[i]\n",
    "        sum(x[i] for i in I) == p\n",
    "    end)"
   ]
  },
  {
   "cell_type": "code",
   "execution_count": 6,
   "metadata": {
    "scrolled": false
   },
   "outputs": [
    {
     "name": "stdout",
     "output_type": "stream",
     "text": [
      "Academic license - for non-commercial use only\n",
      "Gurobi Optimizer version 9.0.3 build v9.0.3rc0 (mac64)\n",
      "Optimize a model with 58323 rows, 58322 columns and 174484 nonzeros\n",
      "Model fingerprint: 0x79fa487c\n",
      "Variable types: 0 continuous, 58322 integer (58322 binary)\n",
      "Coefficient statistics:\n",
      "  Matrix range     [1e+00, 1e+00]\n",
      "  Objective range  [1e+00, 1e+09]\n",
      "  Bounds range     [0e+00, 0e+00]\n",
      "  RHS range        [1e+00, 5e+00]\n",
      "Warning: Model contains large objective coefficients\n",
      "         Consider reformulating model or setting NumericFocus parameter\n",
      "         to avoid numerical issues.\n",
      "Presolve time: 0.39s\n",
      "Presolved: 58323 rows, 58322 columns, 174484 nonzeros\n",
      "Variable types: 0 continuous, 58322 integer (58322 binary)\n",
      "Found heuristic solution: objective 1.204405e+09\n",
      "\n",
      "Deterministic concurrent LP optimizer: primal and dual simplex\n",
      "Showing first log only...\n",
      "\n",
      "Concurrent spin time: 0.00s\n",
      "\n",
      "Solved with dual simplex\n",
      "\n",
      "Root relaxation: objective 3.702516e+08, 2387 iterations, 0.29 seconds\n",
      "\n",
      "    Nodes    |    Current Node    |     Objective Bounds      |     Work\n",
      " Expl Unexpl |  Obj  Depth IntInf | Incumbent    BestBd   Gap | It/Node Time\n",
      "\n",
      "*    0     0               0    3.702516e+08 3.7025e+08  0.00%     -    0s\n",
      "\n",
      "Explored 0 nodes (2387 simplex iterations) in 0.94 seconds\n",
      "Thread count was 8 (of 8 available processors)\n",
      "\n",
      "Solution count 2: 3.70252e+08 1.20441e+09 \n",
      "\n",
      "Optimal solution found (tolerance 1.00e-04)\n",
      "Best objective 3.702515838120e+08, best bound 3.702515838120e+08, gap 0.0000%\n"
     ]
    }
   ],
   "source": [
    "optimize!(Model_p5)"
   ]
  },
  {
   "cell_type": "code",
   "execution_count": 7,
   "metadata": {},
   "outputs": [
    {
     "name": "stdout",
     "output_type": "stream",
     "text": [
      "p = 5\n",
      "Optimal value: 3.702515838119901e8\n",
      "node 9 80 88 180 190 are selected as distribution centers"
     ]
    }
   ],
   "source": [
    "println(\"p = 5\")\n",
    "print(\"Optimal value: \")\n",
    "println(objective_value(Model_p5))\n",
    "print(\"node \")\n",
    "for i in I\n",
    "    if value(x[i]) > 0.5\n",
    "        print(i,\" \")\n",
    "    end\n",
    "end\n",
    "print(\"are selected as distribution centers\")"
   ]
  },
  {
   "cell_type": "code",
   "execution_count": 8,
   "metadata": {},
   "outputs": [
    {
     "name": "stdout",
     "output_type": "stream",
     "text": [
      "Academic license - for non-commercial use only\n"
     ]
    }
   ],
   "source": [
    "#de*((data[i,8]-data[j,8])^2 + ((data[i,9]-data[j,9])*cos(data[j,8]))^2)^(1/2)\n",
    "p = 10\n",
    "Model_p10 = Model(Gurobi.Optimizer)\n",
    "@variable(Model_p10,x[i in I],Bin) # if city i is server\n",
    "@variable(Model_p10,y[i in I,j in J],Bin) #if city i is served by city j\n",
    "@objective(Model_p10,Min,sum(y[i,j]*c[i,j]*data[i,10] for i in I , j in J))\n",
    "@constraints(Model_p10,begin\n",
    "        [i in I], sum(y[i,j] for j in J) == 1\n",
    "        [i in I , j in J], y[i,j]-x[j] <= 0\n",
    "        #[i in I], y[i,i] == x[i]\n",
    "        sum(x[i] for i in I) == p\n",
    "    end)"
   ]
  },
  {
   "cell_type": "code",
   "execution_count": 9,
   "metadata": {},
   "outputs": [
    {
     "name": "stdout",
     "output_type": "stream",
     "text": [
      "Academic license - for non-commercial use only\n",
      "Gurobi Optimizer version 9.0.3 build v9.0.3rc0 (mac64)\n",
      "Optimize a model with 58323 rows, 58322 columns and 174484 nonzeros\n",
      "Model fingerprint: 0x0f2ba2e3\n",
      "Variable types: 0 continuous, 58322 integer (58322 binary)\n",
      "Coefficient statistics:\n",
      "  Matrix range     [1e+00, 1e+00]\n",
      "  Objective range  [1e+00, 1e+09]\n",
      "  Bounds range     [0e+00, 0e+00]\n",
      "  RHS range        [1e+00, 1e+01]\n",
      "Warning: Model contains large objective coefficients\n",
      "         Consider reformulating model or setting NumericFocus parameter\n",
      "         to avoid numerical issues.\n",
      "Presolve time: 0.38s\n",
      "Presolved: 58323 rows, 58322 columns, 174484 nonzeros\n",
      "Variable types: 0 continuous, 58322 integer (58322 binary)\n",
      "Found heuristic solution: objective 8.135880e+08\n",
      "\n",
      "Deterministic concurrent LP optimizer: primal and dual simplex\n",
      "Showing first log only...\n",
      "\n",
      "Concurrent spin time: 0.00s\n",
      "\n",
      "Solved with dual simplex\n",
      "\n",
      "Root relaxation: objective 2.562010e+08, 1897 iterations, 0.28 seconds\n",
      "\n",
      "    Nodes    |    Current Node    |     Objective Bounds      |     Work\n",
      " Expl Unexpl |  Obj  Depth IntInf | Incumbent    BestBd   Gap | It/Node Time\n",
      "\n",
      "*    0     0               0    2.562010e+08 2.5620e+08  0.00%     -    0s\n",
      "\n",
      "Explored 0 nodes (1897 simplex iterations) in 0.93 seconds\n",
      "Thread count was 8 (of 8 available processors)\n",
      "\n",
      "Solution count 2: 2.56201e+08 8.13588e+08 \n",
      "\n",
      "Optimal solution found (tolerance 1.00e-04)\n",
      "Best objective 2.562010028685e+08, best bound 2.562010028685e+08, gap 0.0000%\n"
     ]
    }
   ],
   "source": [
    "optimize!(Model_p10)"
   ]
  },
  {
   "cell_type": "code",
   "execution_count": 10,
   "metadata": {},
   "outputs": [
    {
     "name": "stdout",
     "output_type": "stream",
     "text": [
      "p = 10\n",
      "Optimal value: 2.56201002868491e8\n",
      "node 9 51 80 88 103 161 167 180 190 208 are selected as distribution centers"
     ]
    }
   ],
   "source": [
    "println(\"p = 10\")\n",
    "print(\"Optimal value: \")\n",
    "println(objective_value(Model_p10))\n",
    "print(\"node \")\n",
    "for i in I\n",
    "    if value(x[i]) > 0.5\n",
    "        print(i,\" \")\n",
    "    end\n",
    "end\n",
    "print(\"are selected as distribution centers\")"
   ]
  },
  {
   "cell_type": "code",
   "execution_count": 11,
   "metadata": {},
   "outputs": [
    {
     "name": "stdout",
     "output_type": "stream",
     "text": [
      "Academic license - for non-commercial use only\n"
     ]
    }
   ],
   "source": [
    "#de*((data[i,8]-data[j,8])^2 + ((data[i,9]-data[j,9])*cos(data[j,8]))^2)^(1/2)\n",
    "p = 15\n",
    "Model_p15 = Model(Gurobi.Optimizer)\n",
    "@variable(Model_p15,x[i in I],Bin) # if city i is server\n",
    "@variable(Model_p15,y[i in I,j in J],Bin) #if city i is served by city j\n",
    "@objective(Model_p15,Min,sum(y[i,j]*c[i,j]*data[i,10] for i in I , j in J))\n",
    "@constraints(Model_p15,begin\n",
    "        [i in I], sum(y[i,j] for j in J) == 1\n",
    "        [i in I , j in J], y[i,j]-x[j] <= 0\n",
    "        #[i in I], y[i,i] == x[i]\n",
    "        sum(x[i] for i in I) == p\n",
    "    end)"
   ]
  },
  {
   "cell_type": "code",
   "execution_count": 12,
   "metadata": {},
   "outputs": [
    {
     "name": "stdout",
     "output_type": "stream",
     "text": [
      "Academic license - for non-commercial use only\n",
      "Gurobi Optimizer version 9.0.3 build v9.0.3rc0 (mac64)\n",
      "Optimize a model with 58323 rows, 58322 columns and 174484 nonzeros\n",
      "Model fingerprint: 0x807d1875\n",
      "Variable types: 0 continuous, 58322 integer (58322 binary)\n",
      "Coefficient statistics:\n",
      "  Matrix range     [1e+00, 1e+00]\n",
      "  Objective range  [1e+00, 1e+09]\n",
      "  Bounds range     [0e+00, 0e+00]\n",
      "  RHS range        [1e+00, 2e+01]\n",
      "Warning: Model contains large objective coefficients\n",
      "         Consider reformulating model or setting NumericFocus parameter\n",
      "         to avoid numerical issues.\n",
      "Presolve time: 0.39s\n",
      "Presolved: 58323 rows, 58322 columns, 174484 nonzeros\n",
      "Variable types: 0 continuous, 58322 integer (58322 binary)\n",
      "Found heuristic solution: objective 7.822088e+08\n",
      "\n",
      "Deterministic concurrent LP optimizer: primal and dual simplex\n",
      "Showing first log only...\n",
      "\n",
      "Concurrent spin time: 0.00s\n",
      "\n",
      "Solved with dual simplex\n",
      "\n",
      "Root relaxation: objective 1.928723e+08, 1518 iterations, 0.26 seconds\n",
      "\n",
      "    Nodes    |    Current Node    |     Objective Bounds      |     Work\n",
      " Expl Unexpl |  Obj  Depth IntInf | Incumbent    BestBd   Gap | It/Node Time\n",
      "\n",
      "*    0     0               0    1.928723e+08 1.9287e+08  0.00%     -    0s\n",
      "\n",
      "Explored 0 nodes (1518 simplex iterations) in 0.91 seconds\n",
      "Thread count was 8 (of 8 available processors)\n",
      "\n",
      "Solution count 2: 1.92872e+08 7.82209e+08 \n",
      "\n",
      "Optimal solution found (tolerance 1.00e-04)\n",
      "Best objective 1.928723109912e+08, best bound 1.928723109912e+08, gap 0.0000%\n"
     ]
    }
   ],
   "source": [
    "optimize!(Model_p15)"
   ]
  },
  {
   "cell_type": "code",
   "execution_count": 13,
   "metadata": {
    "scrolled": true
   },
   "outputs": [
    {
     "name": "stdout",
     "output_type": "stream",
     "text": [
      "p = 15\n",
      "Optimal value: 1.928723109912253e8\n",
      "node 9 51 70 80 88 103 126 143 161 167 180 190 192 201 208 are selected as distribution centers"
     ]
    }
   ],
   "source": [
    "println(\"p = 15\")\n",
    "print(\"Optimal value: \")\n",
    "println(objective_value(Model_p15))\n",
    "print(\"node \")\n",
    "for i in I\n",
    "    if value(x[i]) > 0.5\n",
    "        print(i,\" \")\n",
    "    end\n",
    "end\n",
    "print(\"are selected as distribution centers\")"
   ]
  },
  {
   "cell_type": "code",
   "execution_count": 14,
   "metadata": {},
   "outputs": [
    {
     "name": "stdout",
     "output_type": "stream",
     "text": [
      "Academic license - for non-commercial use only\n"
     ]
    }
   ],
   "source": [
    "#de*((data[i,8]-data[j,8])^2 + ((data[i,9]-data[j,9])*cos(data[j,8]))^2)^(1/2)\n",
    "p = 20\n",
    "Model_p20 = Model(Gurobi.Optimizer)\n",
    "@variable(Model_p20,x[i in I],Bin) # if city i is server\n",
    "@variable(Model_p20,y[i in I,j in J],Bin) #if city i is served by city j\n",
    "@objective(Model_p20,Min,sum(y[i,j]*c[i,j]*data[i,10] for i in I , j in J))\n",
    "@constraints(Model_p20,begin\n",
    "        [i in I], sum(y[i,j] for j in J) == 1\n",
    "        [i in I , j in J], y[i,j]-x[j] <= 0\n",
    "        #[i in I], y[i,i] == x[i]\n",
    "        sum(x[i] for i in I) == p\n",
    "    end)"
   ]
  },
  {
   "cell_type": "code",
   "execution_count": 15,
   "metadata": {},
   "outputs": [
    {
     "name": "stdout",
     "output_type": "stream",
     "text": [
      "Academic license - for non-commercial use only\n",
      "Gurobi Optimizer version 9.0.3 build v9.0.3rc0 (mac64)\n",
      "Optimize a model with 58323 rows, 58322 columns and 174484 nonzeros\n",
      "Model fingerprint: 0x84fd5e46\n",
      "Variable types: 0 continuous, 58322 integer (58322 binary)\n",
      "Coefficient statistics:\n",
      "  Matrix range     [1e+00, 1e+00]\n",
      "  Objective range  [1e+00, 1e+09]\n",
      "  Bounds range     [0e+00, 0e+00]\n",
      "  RHS range        [1e+00, 2e+01]\n",
      "Warning: Model contains large objective coefficients\n",
      "         Consider reformulating model or setting NumericFocus parameter\n",
      "         to avoid numerical issues.\n",
      "Presolve time: 0.39s\n",
      "Presolved: 58323 rows, 58322 columns, 174484 nonzeros\n",
      "Variable types: 0 continuous, 58322 integer (58322 binary)\n",
      "Found heuristic solution: objective 5.589340e+08\n",
      "\n",
      "Deterministic concurrent LP optimizer: primal and dual simplex\n",
      "Showing first log only...\n",
      "\n",
      "Concurrent spin time: 0.00s\n",
      "\n",
      "Solved with dual simplex\n",
      "\n",
      "Root relaxation: objective 1.476201e+08, 1453 iterations, 0.26 seconds\n",
      "\n",
      "    Nodes    |    Current Node    |     Objective Bounds      |     Work\n",
      " Expl Unexpl |  Obj  Depth IntInf | Incumbent    BestBd   Gap | It/Node Time\n",
      "\n",
      "*    0     0               0    1.476201e+08 1.4762e+08  0.00%     -    0s\n",
      "\n",
      "Explored 0 nodes (1453 simplex iterations) in 0.92 seconds\n",
      "Thread count was 8 (of 8 available processors)\n",
      "\n",
      "Solution count 2: 1.4762e+08 5.58934e+08 \n",
      "\n",
      "Optimal solution found (tolerance 1.00e-04)\n",
      "Best objective 1.476201035488e+08, best bound 1.476201035488e+08, gap 0.0000%\n"
     ]
    }
   ],
   "source": [
    "optimize!(Model_p20)"
   ]
  },
  {
   "cell_type": "code",
   "execution_count": 16,
   "metadata": {},
   "outputs": [
    {
     "name": "stdout",
     "output_type": "stream",
     "text": [
      "p = 20\n",
      "Optimal value: 1.476201035487954e8\n",
      "node 9 46 47 51 64 70 80 88 103 104 112 122 126 129 143 161 167 180 192 201 are selected as distribution centers"
     ]
    }
   ],
   "source": [
    "println(\"p = 20\")\n",
    "print(\"Optimal value: \")\n",
    "println(objective_value(Model_p20))\n",
    "print(\"node \")\n",
    "for i in I\n",
    "    if value(x[i]) > 0.5\n",
    "        print(i,\" \")\n",
    "    end\n",
    "end\n",
    "print(\"are selected as distribution centers\")"
   ]
  },
  {
   "cell_type": "code",
   "execution_count": 17,
   "metadata": {},
   "outputs": [
    {
     "name": "stdout",
     "output_type": "stream",
     "text": [
      "Academic license - for non-commercial use only\n"
     ]
    }
   ],
   "source": [
    "#de*((data[i,8]-data[j,8])^2 + ((data[i,9]-data[j,9])*cos(data[j,8]))^2)^(1/2)\n",
    "p = 25\n",
    "Model_p25 = Model(Gurobi.Optimizer)\n",
    "@variable(Model_p25,x[i in I],Bin) # if city i is server\n",
    "@variable(Model_p25,y[i in I,j in J],Bin) #if city i is served by city j\n",
    "@objective(Model_p25,Min,sum(y[i,j]*c[i,j]*data[i,10] for i in I , j in J))\n",
    "@constraints(Model_p25,begin\n",
    "        [i in I], sum(y[i,j] for j in J) == 1\n",
    "        [i in I , j in J], y[i,j]-x[j] <= 0\n",
    "        #[i in I], y[i,i] == x[i]\n",
    "        sum(x[i] for i in I) == p\n",
    "    end)"
   ]
  },
  {
   "cell_type": "code",
   "execution_count": 18,
   "metadata": {},
   "outputs": [
    {
     "name": "stdout",
     "output_type": "stream",
     "text": [
      "Academic license - for non-commercial use only\n",
      "Gurobi Optimizer version 9.0.3 build v9.0.3rc0 (mac64)\n",
      "Optimize a model with 58323 rows, 58322 columns and 174484 nonzeros\n",
      "Model fingerprint: 0xcbec2eac\n",
      "Variable types: 0 continuous, 58322 integer (58322 binary)\n",
      "Coefficient statistics:\n",
      "  Matrix range     [1e+00, 1e+00]\n",
      "  Objective range  [1e+00, 1e+09]\n",
      "  Bounds range     [0e+00, 0e+00]\n",
      "  RHS range        [1e+00, 2e+01]\n",
      "Warning: Model contains large objective coefficients\n",
      "         Consider reformulating model or setting NumericFocus parameter\n",
      "         to avoid numerical issues.\n",
      "Presolve time: 0.39s\n",
      "Presolved: 58323 rows, 58322 columns, 174484 nonzeros\n",
      "Variable types: 0 continuous, 58322 integer (58322 binary)\n",
      "Found heuristic solution: objective 4.796093e+08\n",
      "\n",
      "Deterministic concurrent LP optimizer: primal and dual simplex\n",
      "Showing first log only...\n",
      "\n",
      "Concurrent spin time: 0.00s\n",
      "\n",
      "Solved with dual simplex\n",
      "\n",
      "Root relaxation: objective 1.188004e+08, 1265 iterations, 0.24 seconds\n",
      "\n",
      "    Nodes    |    Current Node    |     Objective Bounds      |     Work\n",
      " Expl Unexpl |  Obj  Depth IntInf | Incumbent    BestBd   Gap | It/Node Time\n",
      "\n",
      "*    0     0               0    1.188004e+08 1.1880e+08  0.00%     -    0s\n",
      "\n",
      "Explored 0 nodes (1265 simplex iterations) in 0.91 seconds\n",
      "Thread count was 8 (of 8 available processors)\n",
      "\n",
      "Solution count 2: 1.188e+08 4.79609e+08 \n",
      "\n",
      "Optimal solution found (tolerance 1.00e-04)\n",
      "Best objective 1.188004056241e+08, best bound 1.188004056241e+08, gap 0.0000%\n"
     ]
    }
   ],
   "source": [
    "optimize!(Model_p25)"
   ]
  },
  {
   "cell_type": "code",
   "execution_count": 19,
   "metadata": {},
   "outputs": [
    {
     "name": "stdout",
     "output_type": "stream",
     "text": [
      "p = 25\n",
      "Optimal value: 1.1880040562413189e8\n",
      "node 9 30 46 47 51 64 70 80 88 103 104 112 122 126 129 139 143 161 167 168 177 180 192 201 214 are selected as distribution centers"
     ]
    }
   ],
   "source": [
    "println(\"p = 25\")\n",
    "print(\"Optimal value: \")\n",
    "println(objective_value(Model_p25))\n",
    "print(\"node \")\n",
    "for i in I\n",
    "    if value(x[i]) > 0.5\n",
    "        print(i,\" \")\n",
    "    end\n",
    "end\n",
    "print(\"are selected as distribution centers\")"
   ]
  },
  {
   "cell_type": "code",
   "execution_count": 20,
   "metadata": {},
   "outputs": [
    {
     "name": "stdout",
     "output_type": "stream",
     "text": [
      "Academic license - for non-commercial use only\n"
     ]
    }
   ],
   "source": [
    "#de*((data[i,8]-data[j,8])^2 + ((data[i,9]-data[j,9])*cos(data[j,8]))^2)^(1/2)\n",
    "p = 30\n",
    "Model_p30 = Model(Gurobi.Optimizer)\n",
    "@variable(Model_p30,x[i in I],Bin) # if city i is server\n",
    "@variable(Model_p30,y[i in I,j in J],Bin) #if city i is served by city j\n",
    "@objective(Model_p30,Min,sum(y[i,j]*c[i,j]*data[i,10] for i in I , j in J))\n",
    "@constraints(Model_p30,begin\n",
    "        [i in I], sum(y[i,j] for j in J) == 1\n",
    "        [i in I , j in J], y[i,j]-x[j] <= 0\n",
    "        #[i in I], y[i,i] == x[i]\n",
    "        sum(x[i] for i in I) == p\n",
    "    end)"
   ]
  },
  {
   "cell_type": "code",
   "execution_count": 21,
   "metadata": {},
   "outputs": [
    {
     "name": "stdout",
     "output_type": "stream",
     "text": [
      "Academic license - for non-commercial use only\n",
      "Gurobi Optimizer version 9.0.3 build v9.0.3rc0 (mac64)\n",
      "Optimize a model with 58323 rows, 58322 columns and 174484 nonzeros\n",
      "Model fingerprint: 0xc53e2800\n",
      "Variable types: 0 continuous, 58322 integer (58322 binary)\n",
      "Coefficient statistics:\n",
      "  Matrix range     [1e+00, 1e+00]\n",
      "  Objective range  [1e+00, 1e+09]\n",
      "  Bounds range     [0e+00, 0e+00]\n",
      "  RHS range        [1e+00, 3e+01]\n",
      "Warning: Model contains large objective coefficients\n",
      "         Consider reformulating model or setting NumericFocus parameter\n",
      "         to avoid numerical issues.\n",
      "Presolve time: 0.38s\n",
      "Presolved: 58323 rows, 58322 columns, 174484 nonzeros\n",
      "Variable types: 0 continuous, 58322 integer (58322 binary)\n",
      "Found heuristic solution: objective 4.375687e+08\n",
      "\n",
      "Deterministic concurrent LP optimizer: primal and dual simplex\n",
      "Showing first log only...\n",
      "\n",
      "Concurrent spin time: 0.00s\n",
      "\n",
      "Solved with dual simplex\n",
      "\n",
      "Root relaxation: objective 9.824545e+07, 1111 iterations, 0.23 seconds\n",
      "\n",
      "    Nodes    |    Current Node    |     Objective Bounds      |     Work\n",
      " Expl Unexpl |  Obj  Depth IntInf | Incumbent    BestBd   Gap | It/Node Time\n",
      "\n",
      "*    0     0               0    9.824545e+07 9.8245e+07  0.00%     -    0s\n",
      "\n",
      "Explored 0 nodes (1111 simplex iterations) in 0.88 seconds\n",
      "Thread count was 8 (of 8 available processors)\n",
      "\n",
      "Solution count 2: 9.82455e+07 4.37569e+08 \n",
      "\n",
      "Optimal solution found (tolerance 1.00e-04)\n",
      "Best objective 9.824545331191e+07, best bound 9.824545331191e+07, gap 0.0000%\n"
     ]
    }
   ],
   "source": [
    "optimize!(Model_p30)"
   ]
  },
  {
   "cell_type": "code",
   "execution_count": 22,
   "metadata": {},
   "outputs": [
    {
     "name": "stdout",
     "output_type": "stream",
     "text": [
      "p = 30\n",
      "Optimal value: 9.824545331191424e7\n",
      "node 6 9 17 30 46 47 51 56 64 70 80 88 103 104 112 115 126 129 139 143 161 167 168 177 180 192 199 201 208 214 are selected as distribution centers"
     ]
    }
   ],
   "source": [
    "println(\"p = 30\")\n",
    "print(\"Optimal value: \")\n",
    "println(objective_value(Model_p30))\n",
    "print(\"node \")\n",
    "for i in I\n",
    "    if value(x[i]) > 0.5\n",
    "        print(i,\" \")\n",
    "    end\n",
    "end\n",
    "print(\"are selected as distribution centers\")"
   ]
  },
  {
   "cell_type": "code",
   "execution_count": null,
   "metadata": {},
   "outputs": [],
   "source": []
  }
 ],
 "metadata": {
  "kernelspec": {
   "display_name": "Julia 1.5.1",
   "language": "julia",
   "name": "julia-1.5"
  },
  "language_info": {
   "file_extension": ".jl",
   "mimetype": "application/julia",
   "name": "julia",
   "version": "1.5.1"
  }
 },
 "nbformat": 4,
 "nbformat_minor": 4
}
