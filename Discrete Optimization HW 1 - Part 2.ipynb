{
 "cells": [
  {
   "cell_type": "code",
   "execution_count": 2,
   "metadata": {},
   "outputs": [],
   "source": [
    "using JuMP,Gurobi"
   ]
  },
  {
   "cell_type": "code",
   "execution_count": 3,
   "metadata": {},
   "outputs": [
    {
     "data": {
      "text/html": [
       "<table class=\"data-frame\"><thead><tr><th></th><th>ID</th><th>Country or area</th><th>Country code</th><th>Capital City</th></tr><tr><th></th><th>Int64</th><th>String</th><th>Int64</th><th>String</th></tr></thead><tbody><p>241 rows × 10 columns (omitted printing of 6 columns)</p><tr><th>1</th><td>1</td><td>Afghanistan</td><td>4</td><td>Kabul</td></tr><tr><th>2</th><td>2</td><td>Albania</td><td>8</td><td>Tiran\\x91 (Tirana)</td></tr><tr><th>3</th><td>3</td><td>Algeria</td><td>12</td><td>El Djaza\\x95r  (Algiers)</td></tr><tr><th>4</th><td>4</td><td>American Samoa</td><td>16</td><td>Pago Pago</td></tr><tr><th>5</th><td>5</td><td>Andorra</td><td>20</td><td>Andorra la Vella</td></tr><tr><th>6</th><td>6</td><td>Angola</td><td>24</td><td>Luanda</td></tr><tr><th>7</th><td>7</td><td>Anguilla</td><td>660</td><td>The Valley</td></tr><tr><th>8</th><td>8</td><td>Antigua and Barbuda</td><td>28</td><td>St. John's</td></tr><tr><th>9</th><td>9</td><td>Argentina</td><td>32</td><td>Buenos Aires</td></tr><tr><th>10</th><td>10</td><td>Armenia</td><td>51</td><td>Yerevan</td></tr><tr><th>11</th><td>11</td><td>Aruba</td><td>533</td><td>Oranjestad</td></tr><tr><th>12</th><td>12</td><td>Australia</td><td>36</td><td>Canberra</td></tr><tr><th>13</th><td>13</td><td>Austria</td><td>40</td><td>Wien (Vienna)</td></tr><tr><th>14</th><td>14</td><td>Azerbaijan</td><td>31</td><td>Baku</td></tr><tr><th>15</th><td>15</td><td>Bahamas</td><td>44</td><td>Nassau</td></tr><tr><th>16</th><td>16</td><td>Bahrain</td><td>48</td><td>Al-Manamah (Manama)</td></tr><tr><th>17</th><td>17</td><td>Bangladesh</td><td>50</td><td>Dhaka</td></tr><tr><th>18</th><td>18</td><td>Barbados</td><td>52</td><td>Bridgetown</td></tr><tr><th>19</th><td>19</td><td>Belarus</td><td>112</td><td>Minsk</td></tr><tr><th>20</th><td>20</td><td>Belgium</td><td>56</td><td>Bruxelles-Brussel</td></tr><tr><th>21</th><td>21</td><td>Belize</td><td>84</td><td>Belmopan</td></tr><tr><th>22</th><td>22</td><td>Benin</td><td>204</td><td>Cotonou</td></tr><tr><th>23</th><td>23</td><td>Benin</td><td>204</td><td>Porto-Novo</td></tr><tr><th>24</th><td>24</td><td>Bermuda</td><td>60</td><td>Hamilton</td></tr><tr><th>25</th><td>25</td><td>Bhutan</td><td>64</td><td>Thimphu</td></tr><tr><th>26</th><td>26</td><td>Bolivia (Plurinational State of)</td><td>68</td><td>La Paz</td></tr><tr><th>27</th><td>27</td><td>Bolivia (Plurinational State of)</td><td>68</td><td>Sucre</td></tr><tr><th>28</th><td>28</td><td>Bosnia and Herzegovina</td><td>70</td><td>Sarajevo</td></tr><tr><th>29</th><td>29</td><td>Botswana</td><td>72</td><td>Gaborone</td></tr><tr><th>30</th><td>30</td><td>Brazil</td><td>76</td><td>Bras\\x92lia</td></tr><tr><th>&vellip;</th><td>&vellip;</td><td>&vellip;</td><td>&vellip;</td><td>&vellip;</td></tr></tbody></table>"
      ],
      "text/latex": [
       "\\begin{tabular}{r|ccccc}\n",
       "\t& ID & Country or area & Country code & Capital City & \\\\\n",
       "\t\\hline\n",
       "\t& Int64 & String & Int64 & String & \\\\\n",
       "\t\\hline\n",
       "\t1 & 1 & Afghanistan & 4 & Kabul & $\\dots$ \\\\\n",
       "\t2 & 2 & Albania & 8 & Tiran\\textbackslash{}x91 (Tirana) & $\\dots$ \\\\\n",
       "\t3 & 3 & Algeria & 12 & El Djaza\\textbackslash{}x95r  (Algiers) & $\\dots$ \\\\\n",
       "\t4 & 4 & American Samoa & 16 & Pago Pago & $\\dots$ \\\\\n",
       "\t5 & 5 & Andorra & 20 & Andorra la Vella & $\\dots$ \\\\\n",
       "\t6 & 6 & Angola & 24 & Luanda & $\\dots$ \\\\\n",
       "\t7 & 7 & Anguilla & 660 & The Valley & $\\dots$ \\\\\n",
       "\t8 & 8 & Antigua and Barbuda & 28 & St. John's & $\\dots$ \\\\\n",
       "\t9 & 9 & Argentina & 32 & Buenos Aires & $\\dots$ \\\\\n",
       "\t10 & 10 & Armenia & 51 & Yerevan & $\\dots$ \\\\\n",
       "\t11 & 11 & Aruba & 533 & Oranjestad & $\\dots$ \\\\\n",
       "\t12 & 12 & Australia & 36 & Canberra & $\\dots$ \\\\\n",
       "\t13 & 13 & Austria & 40 & Wien (Vienna) & $\\dots$ \\\\\n",
       "\t14 & 14 & Azerbaijan & 31 & Baku & $\\dots$ \\\\\n",
       "\t15 & 15 & Bahamas & 44 & Nassau & $\\dots$ \\\\\n",
       "\t16 & 16 & Bahrain & 48 & Al-Manamah (Manama) & $\\dots$ \\\\\n",
       "\t17 & 17 & Bangladesh & 50 & Dhaka & $\\dots$ \\\\\n",
       "\t18 & 18 & Barbados & 52 & Bridgetown & $\\dots$ \\\\\n",
       "\t19 & 19 & Belarus & 112 & Minsk & $\\dots$ \\\\\n",
       "\t20 & 20 & Belgium & 56 & Bruxelles-Brussel & $\\dots$ \\\\\n",
       "\t21 & 21 & Belize & 84 & Belmopan & $\\dots$ \\\\\n",
       "\t22 & 22 & Benin & 204 & Cotonou & $\\dots$ \\\\\n",
       "\t23 & 23 & Benin & 204 & Porto-Novo & $\\dots$ \\\\\n",
       "\t24 & 24 & Bermuda & 60 & Hamilton & $\\dots$ \\\\\n",
       "\t25 & 25 & Bhutan & 64 & Thimphu & $\\dots$ \\\\\n",
       "\t26 & 26 & Bolivia (Plurinational State of) & 68 & La Paz & $\\dots$ \\\\\n",
       "\t27 & 27 & Bolivia (Plurinational State of) & 68 & Sucre & $\\dots$ \\\\\n",
       "\t28 & 28 & Bosnia and Herzegovina & 70 & Sarajevo & $\\dots$ \\\\\n",
       "\t29 & 29 & Botswana & 72 & Gaborone & $\\dots$ \\\\\n",
       "\t30 & 30 & Brazil & 76 & Bras\\textbackslash{}x92lia & $\\dots$ \\\\\n",
       "\t$\\dots$ & $\\dots$ & $\\dots$ & $\\dots$ & $\\dots$ &  \\\\\n",
       "\\end{tabular}\n"
      ],
      "text/plain": [
       "241×10 DataFrame. Omitted printing of 7 columns\n",
       "│ Row │ ID    │ Country or area                    │ Country code │\n",
       "│     │ \u001b[90mInt64\u001b[39m │ \u001b[90mString\u001b[39m                             │ \u001b[90mInt64\u001b[39m        │\n",
       "├─────┼───────┼────────────────────────────────────┼──────────────┤\n",
       "│ 1   │ 1     │ Afghanistan                        │ 4            │\n",
       "│ 2   │ 2     │ Albania                            │ 8            │\n",
       "│ 3   │ 3     │ Algeria                            │ 12           │\n",
       "│ 4   │ 4     │ American Samoa                     │ 16           │\n",
       "│ 5   │ 5     │ Andorra                            │ 20           │\n",
       "│ 6   │ 6     │ Angola                             │ 24           │\n",
       "│ 7   │ 7     │ Anguilla                           │ 660          │\n",
       "│ 8   │ 8     │ Antigua and Barbuda                │ 28           │\n",
       "│ 9   │ 9     │ Argentina                          │ 32           │\n",
       "│ 10  │ 10    │ Armenia                            │ 51           │\n",
       "⋮\n",
       "│ 231 │ 231   │ United States Virgin Islands       │ 850          │\n",
       "│ 232 │ 232   │ Uruguay                            │ 858          │\n",
       "│ 233 │ 233   │ Uzbekistan                         │ 860          │\n",
       "│ 234 │ 234   │ Vanuatu                            │ 548          │\n",
       "│ 235 │ 235   │ Venezuela (Bolivarian Republic of) │ 862          │\n",
       "│ 236 │ 236   │ Viet Nam                           │ 704          │\n",
       "│ 237 │ 237   │ Wallis and Futuna Islands          │ 876          │\n",
       "│ 238 │ 238   │ Western Sahara                     │ 732          │\n",
       "│ 239 │ 239   │ Yemen                              │ 887          │\n",
       "│ 240 │ 240   │ Zambia                             │ 894          │\n",
       "│ 241 │ 241   │ Zimbabwe                           │ 716          │"
      ]
     },
     "execution_count": 3,
     "metadata": {},
     "output_type": "execute_result"
    }
   ],
   "source": [
    "using CSV\n",
    "data = CSV.read(\"data_transfered.csv\")"
   ]
  },
  {
   "cell_type": "code",
   "execution_count": 4,
   "metadata": {},
   "outputs": [
    {
     "data": {
      "text/plain": [
       "110.25"
      ]
     },
     "execution_count": 4,
     "metadata": {},
     "output_type": "execute_result"
    }
   ],
   "source": [
    "I = [1:241;]\n",
    "J = [1:241;]\n",
    "de = 110.25"
   ]
  },
  {
   "cell_type": "code",
   "execution_count": 5,
   "metadata": {},
   "outputs": [],
   "source": [
    "c = zeros((241,241))\n",
    "for i = 1:241\n",
    "    for j = 1:241\n",
    "        c[i,j] = de*((data[i,8]-data[j,8])^2 + ((data[i,9]-data[j,9])*cos(data[j,8]))^2)^(1/2)\n",
    "    end\n",
    "end"
   ]
  },
  {
   "cell_type": "code",
   "execution_count": 8,
   "metadata": {},
   "outputs": [
    {
     "name": "stdout",
     "output_type": "stream",
     "text": [
      "Academic license - for non-commercial use only\n"
     ]
    }
   ],
   "source": [
    "p = 10\n",
    "K = [112 103 139 70 47 17 9 168 64 177]\n",
    "Model_modify = Model(Gurobi.Optimizer)\n",
    "@variable(Model_modify,x[i in I],Bin) # if city i is distribution center\n",
    "@variable(Model_modify,y[i in I,j in J],Bin) #if city i is served by city j\n",
    "@variable(Model_modify,C,Bin) #if there's more than 2 distributio centers in the first 20 cities\n",
    "@objective(Model_modify,Min,sum(y[i,j]*c[i,j]*data[i,10] for i in I , j in J))\n",
    "@constraints(Model_modify,begin\n",
    "        [i in I], sum(y[i,j] for j in J) == 1\n",
    "        [i in I , j in J], y[i,j]-x[j] <= 0\n",
    "        sum(x[i] for i in I) == p\n",
    "        # modification 1\n",
    "        sum(x[i] for i in 1:20) <= 21*sum(x[i] for i in 30:40)\n",
    "        # modification 2\n",
    "        sum(x[i] for i in 1:20) >= 3C\n",
    "        sum(x[i] for i in 1:20) <= 2+18C\n",
    "        sum(x[i] for i in 30:40) >= C\n",
    "        sum(x[i] for i in 30:40) <= 10C\n",
    "        # modification 3\n",
    "        x[39] + x[230] <= 1\n",
    "        # modification 4\n",
    "        x[39] + x[230] + x[139] + x[164] == 1\n",
    "        # modification 5\n",
    "        sum(x[i] for i in K) <= 3\n",
    "    end)"
   ]
  },
  {
   "cell_type": "code",
   "execution_count": 9,
   "metadata": {},
   "outputs": [
    {
     "name": "stdout",
     "output_type": "stream",
     "text": [
      "Academic license - for non-commercial use only\n",
      "Gurobi Optimizer version 9.0.3 build v9.0.3rc0 (mac64)\n",
      "Optimize a model with 58324 rows, 58323 columns and 174488 nonzeros\n",
      "Model fingerprint: 0xdd1c298b\n",
      "Variable types: 0 continuous, 58323 integer (58323 binary)\n",
      "Coefficient statistics:\n",
      "  Matrix range     [1e+00, 1e+00]\n",
      "  Objective range  [1e+00, 1e+09]\n",
      "  Bounds range     [0e+00, 0e+00]\n",
      "  RHS range        [1e+00, 1e+01]\n",
      "Warning: Model contains large objective coefficients\n",
      "         Consider reformulating model or setting NumericFocus parameter\n",
      "         to avoid numerical issues.\n",
      "Presolve removed 0 rows and 1 columns\n",
      "Presolve time: 0.42s\n",
      "Presolved: 58324 rows, 58322 columns, 174488 nonzeros\n",
      "Variable types: 0 continuous, 58322 integer (58322 binary)\n",
      "Found heuristic solution: objective 8.298674e+08\n",
      "\n",
      "Deterministic concurrent LP optimizer: primal and dual simplex\n",
      "Showing first log only...\n",
      "\n",
      "Concurrent spin time: 0.00s\n",
      "\n",
      "Solved with dual simplex\n",
      "\n",
      "Root relaxation: objective 2.671128e+08, 2063 iterations, 0.27 seconds\n",
      "\n",
      "    Nodes    |    Current Node    |     Objective Bounds      |     Work\n",
      " Expl Unexpl |  Obj  Depth IntInf | Incumbent    BestBd   Gap | It/Node Time\n",
      "\n",
      "*    0     0               0    2.671128e+08 2.6711e+08  0.00%     -    0s\n",
      "\n",
      "Explored 0 nodes (2063 simplex iterations) in 1.01 seconds\n",
      "Thread count was 8 (of 8 available processors)\n",
      "\n",
      "Solution count 2: 2.67113e+08 8.29867e+08 \n",
      "\n",
      "Optimal solution found (tolerance 1.00e-04)\n",
      "Best objective 2.671128286939e+08, best bound 2.671128286939e+08, gap 0.0000%\n",
      "Optimal value: $2.6711282869387776e8\n",
      "node 9 51 80 88 139 161 167 180 190 208 are selected as distribution centers"
     ]
    }
   ],
   "source": [
    "optimize!(Model_modify)\n",
    "print(\"Optimal value: \\$\")\n",
    "println(objective_value(Model_modify))\n",
    "print(\"node \")\n",
    "for i in I\n",
    "    if value(x[i]) > 0.5\n",
    "        print(i,\" \")\n",
    "    end\n",
    "end\n",
    "print(\"are selected as distribution centers\")"
   ]
  },
  {
   "cell_type": "code",
   "execution_count": null,
   "metadata": {},
   "outputs": [],
   "source": []
  }
 ],
 "metadata": {
  "kernelspec": {
   "display_name": "Julia 1.5.1",
   "language": "julia",
   "name": "julia-1.5"
  },
  "language_info": {
   "file_extension": ".jl",
   "mimetype": "application/julia",
   "name": "julia",
   "version": "1.5.1"
  }
 },
 "nbformat": 4,
 "nbformat_minor": 4
}
