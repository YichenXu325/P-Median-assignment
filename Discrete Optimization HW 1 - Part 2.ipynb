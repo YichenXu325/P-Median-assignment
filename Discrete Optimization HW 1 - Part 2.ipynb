{
 "cells": [
  {
   "cell_type": "code",
   "execution_count": null,
   "metadata": {},
   "outputs": [],
   "source": [
    "using JuMP,Gurobi"
   ]
  },
  {
   "cell_type": "code",
   "execution_count": null,
   "metadata": {},
   "outputs": [],
   "source": [
    "using CSV\n",
    "data = CSV.read(\"data_transfered.csv\")"
   ]
  },
  {
   "cell_type": "code",
   "execution_count": null,
   "metadata": {},
   "outputs": [],
   "source": [
    "I = [1:241;]\n",
    "J = [1:241;]\n",
    "de = 110.25"
   ]
  },
  {
   "cell_type": "code",
   "execution_count": null,
   "metadata": {},
   "outputs": [],
   "source": [
    "c = zeros((241,241))\n",
    "for i = 1:241\n",
    "    for j = 1:241\n",
    "        c[i,j] = de*((data[i,8]-data[j,8])^2 + ((data[i,9]-data[j,9])*cos(data[j,8]))^2)^(1/2)\n",
    "    end\n",
    "end"
   ]
  },
  {
   "cell_type": "code",
   "execution_count": null,
   "metadata": {},
   "outputs": [],
   "source": [
    "p = 10\n",
    "K = [112 103 139 70 47 17 9 168 64 177]\n",
    "Model_modify = Model(Gurobi.Optimizer)\n",
    "@variable(Model_modify,x[i in I],Bin) # if city i is distribution center\n",
    "@variable(Model_modify,y[i in I,j in J],Bin) #if city i is served by city j\n",
    "@variable(Model_modify,C,Bin) #if there's more than 2 distributio centers in the first 20 cities\n",
    "@objective(Model_modify,Min,sum(y[i,j]*c[i,j]*data[i,10] for i in I , j in J))\n",
    "@constraints(Model_modify,begin\n",
    "        [i in I], sum(y[i,j] for j in J) == 1\n",
    "        [i in I , j in J], y[i,j]-x[j] <= 0\n",
    "        sum(x[i] for i in I) == p\n",
    "        # modification 1\n",
    "        sum(x[i] for i in 1:20) <= 21*sum(x[i] for i in 30:40)\n",
    "        # modification 2\n",
    "        sum(x[i] for i in 1:20) >= 3C\n",
    "        sum(x[i] for i in 1:20) <= 2+18C\n",
    "        sum(x[i] for i in 30:40) >= C\n",
    "        sum(x[i] for i in 30:40) <= 10C\n",
    "        # modification 3\n",
    "        x[39] + x[230] <= 1\n",
    "        # modification 4\n",
    "        x[39] + x[230] + x[139] + x[164] == 1\n",
    "        # modification 5\n",
    "        sum(x[i] for i in K) <= 3\n",
    "    end)"
   ]
  }
 ],
 "metadata": {
  "kernelspec": {
   "display_name": "Julia 1.5.1",
   "language": "julia",
   "name": "julia-1.5"
  },
  "language_info": {
   "file_extension": ".jl",
   "mimetype": "application/julia",
   "name": "julia",
   "version": "1.5.1"
  }
 },
 "nbformat": 4,
 "nbformat_minor": 4
}
