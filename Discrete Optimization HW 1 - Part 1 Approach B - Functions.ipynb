{
 "cells": [
  {
   "cell_type": "code",
   "execution_count": null,
   "metadata": {},
   "outputs": [],
   "source": [
    "using JuMP, Gurobi"
   ]
  },
  {
   "cell_type": "code",
   "execution_count": null,
   "metadata": {},
   "outputs": [],
   "source": [
    "using CSV\n",
    "data = CSV.read(\"data_transfered.csv\")"
   ]
  },
  {
   "cell_type": "code",
   "execution_count": null,
   "metadata": {},
   "outputs": [],
   "source": [
    "de = 110.25\n",
    "c = zeros((241,241))\n",
    "for i = 1:241\n",
    "    for j = 1:241\n",
    "        c[i,j] = de*((data[i,8]-data[j,8])^2 + ((data[i,9]-data[j,9])*cos(data[j,8]))^2)^(1/2)\n",
    "    end\n",
    "end"
   ]
  },
  {
   "cell_type": "code",
   "execution_count": null,
   "metadata": {},
   "outputs": [],
   "source": [
    "# n stands for the SET of all points in the network\n",
    "# p stands for the maximum number of distribution point\n",
    "# assume that all the points could be distribution point\n",
    "function pmedian(n, p)\n",
    "    model = Model(Gurobi.Optimizer)\n",
    "    @variable(model, x[i in n], Bin)\n",
    "    @variable(model, y[i in n, j in n], Bin)\n",
    "    @objective(model, Min, sum(c[i, j] * y[i, j] * data[i,10] for i in n, j in n))\n",
    "    @constraints(model,begin\n",
    "        [i in n], sum(y[i,j] for j in n) == 1\n",
    "        [i in n , j in n], y[i,j]-x[j] <= 0\n",
    "        sum(x[i] for i in n) == p   \n",
    "        end)\n",
    "    status = optimize!(model)\n",
    "\n",
    "    z_opt = JuMP.objective_value(model)\n",
    "    x_opt = JuMP.value.(x)\n",
    "    y_opt = JuMP.value.(y)\n",
    "\n",
    "    return z_opt, x_opt, y_opt\n",
    "end"
   ]
  },
  {
   "cell_type": "code",
   "execution_count": null,
   "metadata": {},
   "outputs": [],
   "source": [
    "# this function is to add one more distribution center inside the network which already has ONE distribution center\n",
    "# n stands for the SET of all points in the network\n",
    "# p_1 stands for the existed distribution center\n",
    "function plus_1_point(n,p_1)\n",
    "    model = Model(Gurobi.Optimizer)\n",
    "    @variable(model,x[i in n],Bin)\n",
    "    @variable(model,y[i in n, j in n],Bin)\n",
    "    @objective(model,Min, sum(c[i,j] * y[i,j] * data[i,10] for i in n, j in n))\n",
    "    @constraints(model,begin\n",
    "        [i in n], sum(y[i,j] for j in n)==1\n",
    "        [i in n, j in n], y[i,j] - x[j] <= 0\n",
    "        sum(x[i] for i in n) == 2\n",
    "        x[p_1] == 1\n",
    "        end)\n",
    "    status = optimize!(model)\n",
    "    \n",
    "    z_opt = JuMP.objective_value(model)\n",
    "    x_opt = JuMP.value.(x)\n",
    "    y_opt = JuMP.value.(y)\n",
    "    \n",
    "    return z_opt, x_opt, y_opt\n",
    "end"
   ]
  },
  {
   "cell_type": "code",
   "execution_count": null,
   "metadata": {},
   "outputs": [],
   "source": [
    "# this function is to seperate the result from function pmedian(p = 2) and function plus_1_point\n",
    "# k stands for the result of the function pmedian(p = 2) and function plus_1_point\n",
    "# n stands for the set of nodes used in the function providing this result\n",
    "# only 2 distribution center must be existed in the network after running the function pmedian and plus_1_point\n",
    "function separate(k,n)\n",
    "    distr=[]\n",
    "    for i in n\n",
    "        if k[2][i] > 0.5\n",
    "            push!(distr,i)\n",
    "        end\n",
    "    end\n",
    "    net_1 = []\n",
    "    net_2 = []\n",
    "    for i in n\n",
    "        if k[3][i,distr[1]] > 0.5\n",
    "            push!(net_1,i)\n",
    "        end\n",
    "    end\n",
    "    for i in n\n",
    "        if k[3][i,distr[2]] > 0.5\n",
    "            push!(net_2,i)\n",
    "        end\n",
    "    end\n",
    "    cost_1 = sum(c[i,j]*data[i,10] for i in net_1, j = distr[1])\n",
    "    cost_2 = sum(c[i,j]*data[i,10] for i in net_2, j = distr[2])\n",
    "    return distr[1],net_1,cost_1,distr[2],net_2,cost_2\n",
    "end\n",
    "# for the result of this function, element 1 & 4 are the two distribution points, 2 & 5 are the network connected to these two distribution centers, and 3 & 6 are the cost related to these two points"
   ]
  }
 ],
 "metadata": {
  "kernelspec": {
   "display_name": "Julia 1.5.1",
   "language": "julia",
   "name": "julia-1.5"
  },
  "language_info": {
   "file_extension": ".jl",
   "mimetype": "application/julia",
   "name": "julia",
   "version": "1.5.1"
  }
 },
 "nbformat": 4,
 "nbformat_minor": 4
}
